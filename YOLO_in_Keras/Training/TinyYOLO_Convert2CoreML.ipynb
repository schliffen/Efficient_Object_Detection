{
 "cells": [
  {
   "cell_type": "markdown",
   "metadata": {},
   "source": [
    "# Machine Learning with CoreML\n",
    "By Joshua Newnham"
   ]
  },
  {
   "cell_type": "markdown",
   "metadata": {},
   "source": [
    "## Chapter 4 - Object Detection "
   ]
  },
  {
   "cell_type": "markdown",
   "metadata": {},
   "source": []
  },
  {
   "cell_type": "code",
   "execution_count": 1,
   "metadata": {},
   "outputs": [
    {
     "name": "stderr",
     "output_type": "stream",
     "text": [
      "WARNING:root:Keras version 2.1.5 detected. Last version known to be fully compatible of Keras is 2.1.3 .\n",
      "WARNING:root:TensorFlow version 1.7.0 detected. Last version known to be fully compatible is 1.5.0 .\n"
     ]
    }
   ],
   "source": [
    "import warnings\n",
    "with warnings.catch_warnings():\n",
    "    warnings.filterwarnings(\"ignore\", category=RuntimeWarning)\n",
    "    \n",
    "    import coremltools"
   ]
  },
  {
   "cell_type": "code",
   "execution_count": 2,
   "metadata": {},
   "outputs": [
    {
     "name": "stderr",
     "output_type": "stream",
     "text": [
      "/Users/jnewnham/anaconda/envs/coreml27/lib/python2.7/site-packages/keras/models.py:255: UserWarning: No training configuration found in save file: the model was *not* compiled. Compile it manually.\n",
      "  warnings.warn('No training configuration found in save file: '\n"
     ]
    },
    {
     "name": "stdout",
     "output_type": "stream",
     "text": [
      "0 : input_1, <keras.engine.topology.InputLayer object at 0x181f7d82d0>\n",
      "1 : conv2d_1, <keras.layers.convolutional.Conv2D object at 0x181f7d8290>\n",
      "2 : batch_normalization_1, <keras.layers.normalization.BatchNormalization object at 0x181f7d8490>\n",
      "3 : leaky_re_lu_1, <keras.layers.advanced_activations.LeakyReLU object at 0x181f7d8410>\n",
      "4 : max_pooling2d_1, <keras.layers.pooling.MaxPooling2D object at 0x181f7d8850>\n",
      "5 : conv2d_2, <keras.layers.convolutional.Conv2D object at 0x181f7d88d0>\n",
      "6 : batch_normalization_2, <keras.layers.normalization.BatchNormalization object at 0x181f7d8910>\n",
      "7 : leaky_re_lu_2, <keras.layers.advanced_activations.LeakyReLU object at 0x181f7d8a10>\n",
      "8 : max_pooling2d_2, <keras.layers.pooling.MaxPooling2D object at 0x181f7d8b50>\n",
      "9 : conv2d_3, <keras.layers.convolutional.Conv2D object at 0x181f7d8bd0>\n",
      "10 : batch_normalization_3, <keras.layers.normalization.BatchNormalization object at 0x181f7d8c10>\n",
      "11 : leaky_re_lu_3, <keras.layers.advanced_activations.LeakyReLU object at 0x181f7d8d10>\n",
      "12 : max_pooling2d_3, <keras.layers.pooling.MaxPooling2D object at 0x181f7d8e50>\n",
      "13 : conv2d_4, <keras.layers.convolutional.Conv2D object at 0x181f7d8ed0>\n",
      "14 : batch_normalization_4, <keras.layers.normalization.BatchNormalization object at 0x181f7d8f10>\n",
      "15 : leaky_re_lu_4, <keras.layers.advanced_activations.LeakyReLU object at 0x181f816050>\n",
      "16 : max_pooling2d_4, <keras.layers.pooling.MaxPooling2D object at 0x181f816190>\n",
      "17 : conv2d_5, <keras.layers.convolutional.Conv2D object at 0x181f816210>\n",
      "18 : batch_normalization_5, <keras.layers.normalization.BatchNormalization object at 0x181f816250>\n",
      "19 : leaky_re_lu_5, <keras.layers.advanced_activations.LeakyReLU object at 0x181f816350>\n",
      "20 : max_pooling2d_5, <keras.layers.pooling.MaxPooling2D object at 0x181f816490>\n",
      "21 : conv2d_6, <keras.layers.convolutional.Conv2D object at 0x181f816510>\n",
      "22 : batch_normalization_6, <keras.layers.normalization.BatchNormalization object at 0x181f816550>\n",
      "23 : leaky_re_lu_6, <keras.layers.advanced_activations.LeakyReLU object at 0x181f816650>\n",
      "24 : max_pooling2d_6, <keras.layers.pooling.MaxPooling2D object at 0x181f816790>\n",
      "25 : conv2d_7, <keras.layers.convolutional.Conv2D object at 0x181f816810>\n",
      "26 : batch_normalization_7, <keras.layers.normalization.BatchNormalization object at 0x181f816850>\n",
      "27 : leaky_re_lu_7, <keras.layers.advanced_activations.LeakyReLU object at 0x181f816950>\n",
      "28 : conv2d_8, <keras.layers.convolutional.Conv2D object at 0x181f816a90>\n",
      "29 : batch_normalization_8, <keras.layers.normalization.BatchNormalization object at 0x181f816ad0>\n",
      "30 : leaky_re_lu_8, <keras.layers.advanced_activations.LeakyReLU object at 0x181f816bd0>\n",
      "31 : conv2d_9, <keras.layers.convolutional.Conv2D object at 0x181f816d10>\n"
     ]
    }
   ],
   "source": [
    "coreml_model = coremltools.converters.keras.convert(\n",
    "    'output/tinyyolo_voc2007_modelweights.h5',\n",
    "    input_names='image',\n",
    "    image_input_names='image',\n",
    "    output_names='output',\n",
    "    image_scale=1./255.)"
   ]
  },
  {
   "cell_type": "code",
   "execution_count": 3,
   "metadata": {},
   "outputs": [],
   "source": [
    "coreml_model.author = 'Joshua Newnham'\n",
    "coreml_model.license = 'BSD'\n",
    "coreml_model.short_description = 'Keras port of YOLOTiny VOC2007 by Joseph Redmon and Ali Farhadi'\n",
    "coreml_model.input_description['image'] = '416x416 RGB Image'\n",
    "coreml_model.output_description['output'] = '13x13 Grid made up of: [confidence, cx, cy, w, h, 20 x classes] * 5 bounding boxes'"
   ]
  },
  {
   "cell_type": "markdown",
   "metadata": {},
   "source": [
    "### Finall we can save it to disk "
   ]
  },
  {
   "cell_type": "code",
   "execution_count": 4,
   "metadata": {},
   "outputs": [],
   "source": [
    "coreml_model.save('output/tinyyolo_voc2007.mlmodel')"
   ]
  },
  {
   "cell_type": "code",
   "execution_count": null,
   "metadata": {},
   "outputs": [],
   "source": []
  }
 ],
 "metadata": {
  "kernelspec": {
   "display_name": "Python 2",
   "language": "python",
   "name": "python2"
  },
  "language_info": {
   "codemirror_mode": {
    "name": "ipython",
    "version": 2
   },
   "file_extension": ".py",
   "mimetype": "text/x-python",
   "name": "python",
   "nbconvert_exporter": "python",
   "pygments_lexer": "ipython2",
   "version": "2.7.14"
  }
 },
 "nbformat": 4,
 "nbformat_minor": 2
}
